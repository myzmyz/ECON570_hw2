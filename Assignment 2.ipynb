{
 "cells": [
  {
   "cell_type": "code",
   "execution_count": 271,
   "id": "d5f75716",
   "metadata": {},
   "outputs": [],
   "source": [
    "import numpy as np\n",
    "import pandas as pd\n",
    "from numpy import random as rd\n",
    "from pandas import DataFrame as df\n",
    "import graphviz as gr\n",
    "import statsmodels.formula.api as smf"
   ]
  },
  {
   "cell_type": "markdown",
   "id": "deae45b3",
   "metadata": {},
   "source": [
    "<h5> 1. Simulate a DGP where the outcome only depends on a randomly assigned treatment and observed covariates</h5>"
   ]
  },
  {
   "cell_type": "markdown",
   "id": "002b3db4",
   "metadata": {},
   "source": [
    "<h6>Generating randomly assigned treatment and observed covariates</h6>"
   ]
  },
  {
   "cell_type": "code",
   "execution_count": 278,
   "id": "45b03ad0",
   "metadata": {},
   "outputs": [
    {
     "name": "stdout",
     "output_type": "stream",
     "text": [
      "[3.48611730e+01 9.93314288e+01 2.25434099e+00 6.46621986e+01\n",
      " 8.45254050e+01 1.87584794e+01 9.93356580e+01 1.75116183e+01\n",
      " 3.39172883e+00 6.32336700e+01 4.38145943e+01 8.59782639e+01\n",
      " 7.15787361e+01 8.96998211e+00 4.06791186e+01 1.51830999e+01\n",
      " 8.70053235e+01 6.52469098e+01 6.38532700e+01 7.25411241e+01\n",
      " 9.27108919e+01 7.01179350e+01 8.27772334e+01 6.89503785e+01\n",
      " 7.70359180e+01 6.66222180e+01 8.35956710e+01 4.35976858e+01\n",
      " 1.72120682e+01 9.78601494e+01 9.24759260e+01 7.39363060e+01\n",
      " 3.59222632e+01 8.80270141e+01 7.25854463e+00 8.61869624e+01\n",
      " 3.77954168e+01 2.30428049e+01 1.47410827e+01 1.63297596e-01\n",
      " 8.77636154e+01 9.00256767e+01 9.93604304e+01 3.83642151e+01\n",
      " 5.95049911e+01 9.59330910e+01 3.46262152e+01 7.46117517e+01\n",
      " 4.02323537e+01 5.79614547e+00 2.03395188e+01 6.85580145e+01\n",
      " 6.76528585e+01 2.64678207e+01 1.34375135e+01 2.96407138e+01\n",
      " 3.37502294e+01 2.59480227e+01 6.34765801e+00 4.12371292e+01\n",
      " 4.71957952e+01 1.21382643e+01 1.16707896e+01 8.24421452e+01\n",
      " 1.41718186e+01 8.14926554e+01 7.24883905e+00 4.24561382e+01\n",
      " 3.54319105e+01 6.05182642e+01 6.74872965e+01 2.72684684e+01\n",
      " 5.84842486e-01 4.82880040e+01 3.36359565e+01 9.77497123e+01\n",
      " 6.66359143e+01 5.76258508e+01 3.67826265e+01 8.41711648e+01\n",
      " 8.16465942e+01 7.24973747e+01 2.27724426e+01 4.04308265e+00\n",
      " 6.87238853e+01 9.27947815e+01 6.84012250e-02 8.07820161e+01\n",
      " 8.43676544e+01 4.01257996e+01 8.62172946e+01 5.90273135e+01\n",
      " 9.88107379e+01 9.57129582e+00 3.49857816e+01 8.43614918e+01\n",
      " 8.63435633e+01 6.96306038e+01 8.41017871e+01 9.62477998e+01]\n",
      "\n",
      "\n",
      "[10.02693596 92.16869847 44.77256812 35.3826729  55.06937511 12.83714603\n",
      " 64.81201445  4.17638653 94.89808197 94.11309265 55.43711215 34.78254529\n",
      " 73.51378357 36.53337671 63.39220521 44.83293998 57.27541394 26.99773585\n",
      " 60.5553578  79.0633717  70.55820023 73.44640926 48.44117921 81.5766661\n",
      " 38.8441851  50.88419553 65.7583998  73.2522975  86.20902208 44.47891734\n",
      " 36.97623027 10.96473649 33.89343495 60.07154848 36.84706772 83.70632537\n",
      "  0.91339537  2.65311573 89.48118461 65.40017556 20.77043066 57.39557887\n",
      "  8.55324144 24.55344031 55.41292866 90.91684673 89.95509637 22.44645245\n",
      " 20.15826553 50.82350982 92.72899175 83.52604613 63.32568542 83.34881545\n",
      " 65.16950875 40.94661253  3.60011504 54.39642068 59.70939477 23.84130735\n",
      " 44.56356475 50.02573462 50.69112933 96.5290528  29.59005359 86.05779803\n",
      " 67.30712219 68.23297199 25.13544864 18.35103536  9.91557377 37.86364062\n",
      " 77.83192933 92.24459288 40.58427166 18.95610814  9.94631201 39.08870691\n",
      " 41.99647669 15.67970434 53.62264422 30.28072202 55.63565303 42.91361681\n",
      " 69.45239124 12.44373853 22.18873239  3.54377317 97.32213749 33.74036832\n",
      " 37.76943747 86.07139117 37.29181429 61.74461597 68.08093146 26.68899181\n",
      " 23.91239959 48.76634862 13.74755027  5.99619114]\n",
      "\n",
      "\n",
      "[13.17498862 28.29115376 77.17581542 66.53415166 39.09760476  8.49902667\n",
      " 36.46908914 12.55260706 97.31752686 24.11659089 42.46142012  4.48280219\n",
      "  2.58144649 30.15678107 30.08928692 86.7257426  70.16715863 19.78542949\n",
      " 14.07021018 36.14118463 69.30549982 35.47614953 57.58225341 52.80685694\n",
      " 21.68293972 34.03243607 52.41174314  3.66984235 77.81432209 83.09065007\n",
      " 72.71383877 36.85304385 69.56904505 79.46158201 59.83124709 54.30158575\n",
      " 38.78465905 24.17957223 92.26623696 27.96389939 97.49757643 91.30767372\n",
      " 15.60654748  8.0526308  92.72845858 43.6123236  21.14874228 23.39301877\n",
      " 35.29162036 61.95081285 51.40031098 86.70710401 39.16404284  6.34549053\n",
      " 32.4241606  73.23115237 59.63643669 58.58830529 56.92688872 51.36387481\n",
      " 73.60747306 99.37751862 51.88591969 54.47961982 74.58043396 95.28147574\n",
      " 76.22232212 24.52340991 60.45947922 21.501719   54.6890361  14.75471608\n",
      " 13.63729063 90.77301282 34.63076663 74.13936347 30.47325371 54.90840625\n",
      " 99.46106333 20.01708537 26.09717959 11.14411197 52.81806013 69.85681954\n",
      " 43.6462679  76.51369568 60.72043678 98.2006173  78.54391037 17.99126212\n",
      " 51.33486516 62.06724077 33.86667701 23.46359535 71.07064617 58.50347785\n",
      " 29.85556582 89.40300193 66.89800565 49.65746137]\n",
      "\n",
      "\n",
      "[1 0 0 0 1 1 0 0 0 0 0 0 0 0 1 0 1 1 0 0 0 0 0 1 1 1 1 0 0 1 0 1 0 0 0 0 0\n",
      " 1 0 0 0 1 1 0 1 0 1 0 1 1 0 0 0 1 0 0 1 1 0 0 0 1 0 0 1 0 0 0 1 0 1 1 0 0\n",
      " 0 0 1 1 1 0 1 1 0 1 0 0 1 0 1 1 1 1 0 0 0 0 0 0 1 1]\n"
     ]
    }
   ],
   "source": [
    "N=100\n",
    "covar_A = rd.rand(N)*100\n",
    "covar_B = rd.rand(N)*100\n",
    "covar_C = rd.rand(N)*100\n",
    "treatment = rd.randint(2,size=N)\n",
    "print(covar_A)\n",
    "print(\"\\n\")\n",
    "print(covar_B)\n",
    "print(\"\\n\")\n",
    "print(covar_C)\n",
    "print(\"\\n\")\n",
    "print(treatment)"
   ]
  },
  {
   "cell_type": "code",
   "execution_count": 279,
   "id": "69c42427",
   "metadata": {},
   "outputs": [
    {
     "data": {
      "text/plain": [
       "array([17.60412402, 72.32513877, 34.02049263, 46.85855907, 55.7048925 ,\n",
       "       12.96220756, 63.01932102,  9.43456153, 58.44025681, 61.43865624,\n",
       "       43.81150716, 40.60305774, 51.39542355, 23.33570153, 44.07847505,\n",
       "       39.83325448, 63.54519436, 34.83025319, 46.19216614, 60.61592283,\n",
       "       69.89764762, 57.50917412, 55.72609239, 64.37715138, 43.48503738,\n",
       "       47.64683084, 62.36440985, 43.1141932 , 55.21009371, 64.26774177,\n",
       "       57.07603766, 34.43739517, 38.24786195, 66.32904002, 28.8826399 ,\n",
       "       70.19893601, 19.46091498, 13.3100022 , 58.66804605, 31.80183938,\n",
       "       54.13677217, 68.72746931, 36.8507352 , 22.94116681, 59.0623605 ,\n",
       "       73.86913071, 51.09965157, 36.04071025, 27.69133638, 34.95841014,\n",
       "       53.47351453, 71.31924362, 53.45894027, 43.04897049, 36.58388966,\n",
       "       39.91708962, 23.99240219, 41.76063613, 37.17343305, 32.18043666,\n",
       "       46.70565906, 44.02727688, 34.15487256, 74.24018863, 31.5036538 ,\n",
       "       77.92721098, 44.34196501, 44.93471224, 33.27564845, 29.79623719,\n",
       "       35.65022569, 26.77693998, 34.0356826 , 69.53884091, 33.25064895,\n",
       "       51.73522963, 30.56394985, 44.40491925, 48.2255913 , 35.52664826,\n",
       "       51.66247186, 36.5903236 , 39.64960602, 32.84973543, 57.12737566,\n",
       "       48.11866901, 21.54010068, 45.29223755, 80.44793338, 29.63213962,\n",
       "       51.73993641, 65.05019867, 51.33328249, 32.2619542 , 51.94223629,\n",
       "       47.68473984, 41.439142  , 58.27632097, 44.60915736, 41.70430866])"
      ]
     },
     "execution_count": 279,
     "metadata": {},
     "output_type": "execute_result"
    }
   ],
   "source": [
    "Y=0.5*treatment +0.3*covar_A+0.4*covar_B+0.2*covar_C\n",
    "Y"
   ]
  },
  {
   "cell_type": "code",
   "execution_count": 280,
   "id": "422dab5f",
   "metadata": {},
   "outputs": [
    {
     "data": {
      "text/plain": [
       "<bound method NDFrame.head of             Y  Treatment  covariance_A  covariance_B  covariance_C\n",
       "0   17.604124          1     34.861173     10.026936     13.174989\n",
       "1   72.325139          0     99.331429     92.168698     28.291154\n",
       "2   34.020493          0      2.254341     44.772568     77.175815\n",
       "3   46.858559          0     64.662199     35.382673     66.534152\n",
       "4   55.704892          1     84.525405     55.069375     39.097605\n",
       "..        ...        ...           ...           ...           ...\n",
       "95  47.684740          0     84.361492     26.688992     58.503478\n",
       "96  41.439142          0     86.343563     23.912400     29.855566\n",
       "97  58.276321          0     69.630604     48.766349     89.403002\n",
       "98  44.609157          1     84.101787     13.747550     66.898006\n",
       "99  41.704309          1     96.247800      5.996191     49.657461\n",
       "\n",
       "[100 rows x 5 columns]>"
      ]
     },
     "execution_count": 280,
     "metadata": {},
     "output_type": "execute_result"
    }
   ],
   "source": [
    "#create a dataframe\n",
    "data = df({'Y':Y,'Treatment':treatment,'covariance_A':covar_A,'covariance_B':covar_B,'covariance_C':covar_C})\n",
    "data.head"
   ]
  },
  {
   "cell_type": "code",
   "execution_count": 281,
   "id": "fd57e8ed",
   "metadata": {},
   "outputs": [
    {
     "data": {
      "image/svg+xml": [
       "<?xml version=\"1.0\" encoding=\"UTF-8\" standalone=\"no\"?>\n",
       "<!DOCTYPE svg PUBLIC \"-//W3C//DTD SVG 1.1//EN\"\n",
       " \"http://www.w3.org/Graphics/SVG/1.1/DTD/svg11.dtd\">\n",
       "<!-- Generated by graphviz version 2.47.1 (0)\n",
       " -->\n",
       "<!-- Pages: 1 -->\n",
       "<svg width=\"523pt\" height=\"116pt\"\n",
       " viewBox=\"0.00 0.00 522.54 116.00\" xmlns=\"http://www.w3.org/2000/svg\" xmlns:xlink=\"http://www.w3.org/1999/xlink\">\n",
       "<g id=\"graph0\" class=\"graph\" transform=\"scale(1 1) rotate(0) translate(4 112)\">\n",
       "<polygon fill=\"white\" stroke=\"transparent\" points=\"-4,4 -4,-112 518.54,-112 518.54,4 -4,4\"/>\n",
       "<!-- Treatment -->\n",
       "<g id=\"node1\" class=\"node\">\n",
       "<title>Treatment</title>\n",
       "<ellipse fill=\"none\" stroke=\"black\" cx=\"48.1\" cy=\"-90\" rx=\"48.19\" ry=\"18\"/>\n",
       "<text text-anchor=\"middle\" x=\"48.1\" y=\"-86.3\" font-family=\"Times,serif\" font-size=\"14.00\">Treatment</text>\n",
       "</g>\n",
       "<!-- Y -->\n",
       "<g id=\"node2\" class=\"node\">\n",
       "<title>Y</title>\n",
       "<ellipse fill=\"none\" stroke=\"black\" cx=\"245.1\" cy=\"-18\" rx=\"27\" ry=\"18\"/>\n",
       "<text text-anchor=\"middle\" x=\"245.1\" y=\"-14.3\" font-family=\"Times,serif\" font-size=\"14.00\">Y</text>\n",
       "</g>\n",
       "<!-- Treatment&#45;&gt;Y -->\n",
       "<g id=\"edge1\" class=\"edge\">\n",
       "<title>Treatment&#45;&gt;Y</title>\n",
       "<path fill=\"none\" stroke=\"black\" d=\"M81.96,-76.97C118.46,-64 176.17,-43.49 212.26,-30.67\"/>\n",
       "<polygon fill=\"black\" stroke=\"black\" points=\"213.58,-33.91 221.84,-27.27 211.24,-27.32 213.58,-33.91\"/>\n",
       "</g>\n",
       "<!-- covariance_A -->\n",
       "<g id=\"node3\" class=\"node\">\n",
       "<title>covariance_A</title>\n",
       "<ellipse fill=\"none\" stroke=\"black\" cx=\"175.1\" cy=\"-90\" rx=\"61.19\" ry=\"18\"/>\n",
       "<text text-anchor=\"middle\" x=\"175.1\" y=\"-86.3\" font-family=\"Times,serif\" font-size=\"14.00\">covariance_A</text>\n",
       "</g>\n",
       "<!-- covariance_A&#45;&gt;Y -->\n",
       "<g id=\"edge2\" class=\"edge\">\n",
       "<title>covariance_A&#45;&gt;Y</title>\n",
       "<path fill=\"none\" stroke=\"black\" d=\"M191.68,-72.41C201.18,-62.91 213.21,-50.88 223.45,-40.65\"/>\n",
       "<polygon fill=\"black\" stroke=\"black\" points=\"225.93,-43.12 230.53,-33.57 220.98,-38.17 225.93,-43.12\"/>\n",
       "</g>\n",
       "<!-- covariance_B -->\n",
       "<g id=\"node4\" class=\"node\">\n",
       "<title>covariance_B</title>\n",
       "<ellipse fill=\"none\" stroke=\"black\" cx=\"315.1\" cy=\"-90\" rx=\"60.39\" ry=\"18\"/>\n",
       "<text text-anchor=\"middle\" x=\"315.1\" y=\"-86.3\" font-family=\"Times,serif\" font-size=\"14.00\">covariance_B</text>\n",
       "</g>\n",
       "<!-- covariance_B&#45;&gt;Y -->\n",
       "<g id=\"edge3\" class=\"edge\">\n",
       "<title>covariance_B&#45;&gt;Y</title>\n",
       "<path fill=\"none\" stroke=\"black\" d=\"M298.51,-72.41C289.01,-62.91 276.98,-50.88 266.74,-40.65\"/>\n",
       "<polygon fill=\"black\" stroke=\"black\" points=\"269.21,-38.17 259.67,-33.57 264.26,-43.12 269.21,-38.17\"/>\n",
       "</g>\n",
       "<!-- covariance_C -->\n",
       "<g id=\"node5\" class=\"node\">\n",
       "<title>covariance_C</title>\n",
       "<ellipse fill=\"none\" stroke=\"black\" cx=\"454.1\" cy=\"-90\" rx=\"60.39\" ry=\"18\"/>\n",
       "<text text-anchor=\"middle\" x=\"454.1\" y=\"-86.3\" font-family=\"Times,serif\" font-size=\"14.00\">covariance_C</text>\n",
       "</g>\n",
       "<!-- covariance_C&#45;&gt;Y -->\n",
       "<g id=\"edge4\" class=\"edge\">\n",
       "<title>covariance_C&#45;&gt;Y</title>\n",
       "<path fill=\"none\" stroke=\"black\" d=\"M415.27,-76C376,-62.84 315.9,-42.72 278.63,-30.23\"/>\n",
       "<polygon fill=\"black\" stroke=\"black\" points=\"279.36,-26.78 268.76,-26.93 277.13,-33.42 279.36,-26.78\"/>\n",
       "</g>\n",
       "</g>\n",
       "</svg>\n"
      ],
      "text/plain": [
       "<graphviz.graphs.Digraph at 0x7f9474787100>"
      ]
     },
     "execution_count": 281,
     "metadata": {},
     "output_type": "execute_result"
    }
   ],
   "source": [
    "g = gr.Digraph()\n",
    "g.edge(\"Treatment\", \"Y\")\n",
    "g.edge(\"covariance_A\", \"Y\")\n",
    "g.edge(\"covariance_B\", \"Y\")\n",
    "g.edge(\"covariance_C\", \"Y\")\n",
    "g"
   ]
  },
  {
   "cell_type": "code",
   "execution_count": 282,
   "id": "d47c0a15",
   "metadata": {},
   "outputs": [],
   "source": [
    "#control for covariates\n",
    "model = smf.ols('Y~Treatment+covar_A+covar_B+covar_C',data = data).fit()"
   ]
  },
  {
   "cell_type": "code",
   "execution_count": 283,
   "id": "833a1811",
   "metadata": {},
   "outputs": [
    {
     "name": "stdout",
     "output_type": "stream",
     "text": [
      "                            OLS Regression Results                            \n",
      "==============================================================================\n",
      "Dep. Variable:                      Y   R-squared:                       1.000\n",
      "Model:                            OLS   Adj. R-squared:                  1.000\n",
      "Method:                 Least Squares   F-statistic:                 3.530e+30\n",
      "Date:                Thu, 14 Apr 2022   Prob (F-statistic):               0.00\n",
      "Time:                        14:04:07   Log-Likelihood:                 2943.2\n",
      "No. Observations:                 100   AIC:                            -5876.\n",
      "Df Residuals:                      95   BIC:                            -5863.\n",
      "Df Model:                           4                                         \n",
      "Covariance Type:            nonrobust                                         \n",
      "==============================================================================\n",
      "                 coef    std err          t      P>|t|      [0.025      0.975]\n",
      "------------------------------------------------------------------------------\n",
      "Intercept   2.842e-14   1.41e-14      2.012      0.047    3.77e-16    5.65e-14\n",
      "Treatment      0.5000   8.65e-15   5.78e+13      0.000       0.500       0.500\n",
      "covar_A        0.3000   1.32e-16   2.27e+15      0.000       0.300       0.300\n",
      "covar_B        0.4000   1.59e-16   2.52e+15      0.000       0.400       0.400\n",
      "covar_C        0.2000   1.54e-16    1.3e+15      0.000       0.200       0.200\n",
      "==============================================================================\n",
      "Omnibus:                        0.569   Durbin-Watson:                   0.120\n",
      "Prob(Omnibus):                  0.752   Jarque-Bera (JB):                0.699\n",
      "Skew:                          -0.079   Prob(JB):                        0.705\n",
      "Kurtosis:                       2.622   Cond. No.                         331.\n",
      "==============================================================================\n",
      "\n",
      "Notes:\n",
      "[1] Standard Errors assume that the covariance matrix of the errors is correctly specified.\n"
     ]
    }
   ],
   "source": [
    "print(model.summary())"
   ]
  },
  {
   "cell_type": "markdown",
   "id": "840f043c",
   "metadata": {},
   "source": [
    "<h5>Bias = 0, RMSE = 0</h5>"
   ]
  },
  {
   "cell_type": "code",
   "execution_count": 284,
   "id": "c7f6133e",
   "metadata": {},
   "outputs": [
    {
     "name": "stdout",
     "output_type": "stream",
     "text": [
      "                            OLS Regression Results                            \n",
      "==============================================================================\n",
      "Dep. Variable:                      Y   R-squared:                       0.029\n",
      "Model:                            OLS   Adj. R-squared:                  0.019\n",
      "Method:                 Least Squares   F-statistic:                     2.896\n",
      "Date:                Thu, 14 Apr 2022   Prob (F-statistic):             0.0920\n",
      "Time:                        14:04:10   Log-Likelihood:                -413.95\n",
      "No. Observations:                 100   AIC:                             831.9\n",
      "Df Residuals:                      98   BIC:                             837.1\n",
      "Df Model:                           1                                         \n",
      "Covariance Type:            nonrobust                                         \n",
      "==============================================================================\n",
      "                 coef    std err          t      P>|t|      [0.025      0.975]\n",
      "------------------------------------------------------------------------------\n",
      "Intercept     47.7309      1.981     24.098      0.000      43.800      51.662\n",
      "Treatment     -5.3294      3.132     -1.702      0.092     -11.544       0.885\n",
      "==============================================================================\n",
      "Omnibus:                        0.726   Durbin-Watson:                   2.326\n",
      "Prob(Omnibus):                  0.696   Jarque-Bera (JB):                0.817\n",
      "Skew:                           0.091   Prob(JB):                        0.665\n",
      "Kurtosis:                       2.596   Cond. No.                         2.45\n",
      "==============================================================================\n",
      "\n",
      "Notes:\n",
      "[1] Standard Errors assume that the covariance matrix of the errors is correctly specified.\n"
     ]
    }
   ],
   "source": [
    "#do not control for variates\n",
    "model = smf.ols('Y~Treatment',data = data).fit()\n",
    "print(model.summary())"
   ]
  },
  {
   "cell_type": "code",
   "execution_count": 311,
   "id": "eab609bc",
   "metadata": {},
   "outputs": [],
   "source": [
    "RMSE = np.sqrt((0.5+5.3294)**2/1)\n",
    "#print('RMSE = {}'.format(RMSE))\n",
    "bias = 5.8294\n",
    "#print('bias = {}'.format(bias))"
   ]
  },
  {
   "cell_type": "markdown",
   "id": "916b1751",
   "metadata": {},
   "source": [
    "<h5>Bias =0.2146, RMSE=0.2146, treatment effect =0.5 </h5>"
   ]
  },
  {
   "cell_type": "code",
   "execution_count": 287,
   "id": "6ee153b4",
   "metadata": {},
   "outputs": [],
   "source": [
    "# when N=1000\n",
    "N=1000\n",
    "covar_A1 = rd.rand(N)*100\n",
    "covar_B1 = rd.rand(N)*100\n",
    "covar_C1 = rd.rand(N)*100\n",
    "treatment_1 = rd.randint(2,size=N)\n",
    "Y1=0.5*treatment_1 +0.3*covar_A1+0.4*covar_B1+0.2*covar_C1\n",
    "data1 = df({'Y1':Y1,'Treatment_1':treatment_1,'covariance_A1':covar_A1,'covariance_B1':covar_B1,'covariance_C1':covar_C1})"
   ]
  },
  {
   "cell_type": "code",
   "execution_count": 288,
   "id": "8e42ebe2",
   "metadata": {},
   "outputs": [
    {
     "name": "stdout",
     "output_type": "stream",
     "text": [
      "                            OLS Regression Results                            \n",
      "==============================================================================\n",
      "Dep. Variable:                     Y1   R-squared:                       1.000\n",
      "Model:                            OLS   Adj. R-squared:                  1.000\n",
      "Method:                 Least Squares   F-statistic:                 1.030e+31\n",
      "Date:                Thu, 14 Apr 2022   Prob (F-statistic):               0.00\n",
      "Time:                        14:05:42   Log-Likelihood:                 28785.\n",
      "No. Observations:                1000   AIC:                        -5.756e+04\n",
      "Df Residuals:                     995   BIC:                        -5.754e+04\n",
      "Df Model:                           4                                         \n",
      "Covariance Type:            nonrobust                                         \n",
      "===============================================================================\n",
      "                  coef    std err          t      P>|t|      [0.025      0.975]\n",
      "-------------------------------------------------------------------------------\n",
      "Intercept    9.992e-15      8e-15      1.249      0.212   -5.71e-15    2.57e-14\n",
      "Treatment_1     0.5000   4.84e-15   1.03e+14      0.000       0.500       0.500\n",
      "covar_A1        0.3000   8.34e-17    3.6e+15      0.000       0.300       0.300\n",
      "covar_B1        0.4000    8.5e-17   4.71e+15      0.000       0.400       0.400\n",
      "covar_C1        0.2000   8.25e-17   2.42e+15      0.000       0.200       0.200\n",
      "==============================================================================\n",
      "Omnibus:                       48.187   Durbin-Watson:                   0.216\n",
      "Prob(Omnibus):                  0.000   Jarque-Bera (JB):               20.168\n",
      "Skew:                          -0.053   Prob(JB):                     4.17e-05\n",
      "Kurtosis:                       2.312   Cond. No.                         309.\n",
      "==============================================================================\n",
      "\n",
      "Notes:\n",
      "[1] Standard Errors assume that the covariance matrix of the errors is correctly specified.\n"
     ]
    }
   ],
   "source": [
    "#don't control for variates\n",
    "model = smf.ols('Y1~Treatment_1+covar_A1+covar_B1+covar_C1',data = data1).fit()\n",
    "print(model.summary())"
   ]
  },
  {
   "cell_type": "markdown",
   "id": "5d7ad350",
   "metadata": {},
   "source": [
    "<h5>bias = 0, RMSE = 0, treatment effect = 0.5</h5>"
   ]
  },
  {
   "cell_type": "code",
   "execution_count": 289,
   "id": "6809386e",
   "metadata": {},
   "outputs": [
    {
     "name": "stdout",
     "output_type": "stream",
     "text": [
      "                            OLS Regression Results                            \n",
      "==============================================================================\n",
      "Dep. Variable:                     Y1   R-squared:                       0.000\n",
      "Model:                            OLS   Adj. R-squared:                 -0.001\n",
      "Method:                 Least Squares   F-statistic:                   0.01565\n",
      "Date:                Thu, 14 Apr 2022   Prob (F-statistic):              0.900\n",
      "Time:                        14:05:45   Log-Likelihood:                -4161.5\n",
      "No. Observations:                1000   AIC:                             8327.\n",
      "Df Residuals:                     998   BIC:                             8337.\n",
      "Df Model:                           1                                         \n",
      "Covariance Type:            nonrobust                                         \n",
      "===============================================================================\n",
      "                  coef    std err          t      P>|t|      [0.025      0.975]\n",
      "-------------------------------------------------------------------------------\n",
      "Intercept      44.9519      0.687     65.445      0.000      43.604      46.300\n",
      "Treatment_1     0.1230      0.983      0.125      0.900      -1.806       2.052\n",
      "==============================================================================\n",
      "Omnibus:                       15.981   Durbin-Watson:                   1.994\n",
      "Prob(Omnibus):                  0.000   Jarque-Bera (JB):                9.607\n",
      "Skew:                           0.038   Prob(JB):                      0.00820\n",
      "Kurtosis:                       2.526   Cond. No.                         2.59\n",
      "==============================================================================\n",
      "\n",
      "Notes:\n",
      "[1] Standard Errors assume that the covariance matrix of the errors is correctly specified.\n"
     ]
    }
   ],
   "source": [
    "#control for variates\n",
    "model = smf.ols('Y1~Treatment_1',data = data1).fit()\n",
    "print(model.summary())"
   ]
  },
  {
   "cell_type": "code",
   "execution_count": 302,
   "id": "951ff1bb",
   "metadata": {},
   "outputs": [],
   "source": [
    "bias = 0.123-0.5\n",
    "#print('bias = {}'.format(bias))\n",
    "RMSE = np.sqrt((0.123-0.5)**2/1)\n",
    "#print('RMSE = {}'.format(RMSE))"
   ]
  },
  {
   "cell_type": "markdown",
   "id": "82153a9e",
   "metadata": {},
   "source": [
    "<h5>bias = -0.377, RMSE = 0.377, treatment effect = 0.5 </h5>\n"
   ]
  },
  {
   "cell_type": "code",
   "execution_count": 291,
   "id": "cd261530",
   "metadata": {},
   "outputs": [],
   "source": [
    "data1.to_csv('Q1.csv',index=False)"
   ]
  },
  {
   "cell_type": "markdown",
   "id": "de6041dc",
   "metadata": {},
   "source": [
    "<h5>An example of a real-life situation</h5>\n",
    "\n",
    "Students are randomly assigned to take extra tutorials in order to improve study performance. To effectively know whether taking extra tutorials improves study performance, we need to control the size of the classroom which is a covariate in the model.\n"
   ]
  },
  {
   "cell_type": "markdown",
   "id": "4df9122e",
   "metadata": {},
   "source": [
    "<h5>2. Simulate a DGP with a confounder</h5>"
   ]
  },
  {
   "cell_type": "markdown",
   "id": "a8a4dbe3",
   "metadata": {},
   "source": [
    "<h6>Generating randomly assigned treatment and a confounder</h6>"
   ]
  },
  {
   "cell_type": "code",
   "execution_count": 292,
   "id": "23cde93c",
   "metadata": {},
   "outputs": [],
   "source": [
    "N=100\n",
    "confounder = rd.rand(N)*100\n",
    "T = 0.3*confounder +rd.rand(N)*100\n",
    "Y = 0.4*T +0.3*confounder"
   ]
  },
  {
   "cell_type": "code",
   "execution_count": 293,
   "id": "70acd892",
   "metadata": {},
   "outputs": [
    {
     "data": {
      "text/plain": [
       "<bound method NDFrame.head of             Y           T  confonder\n",
       "0   35.673119   47.018942  56.218472\n",
       "1   44.222662   43.722974  89.111576\n",
       "2   47.769711   90.841767  38.110014\n",
       "3   64.683050   92.866797  91.787769\n",
       "4   39.978428   45.632253  72.418421\n",
       "..        ...         ...        ...\n",
       "95  28.329256   37.412947  44.546924\n",
       "96  53.198466   61.356493  95.519561\n",
       "97  69.445699  116.677735  75.915349\n",
       "98   8.415185   17.096077   5.255846\n",
       "99  37.913530   90.260014   6.031747\n",
       "\n",
       "[100 rows x 3 columns]>"
      ]
     },
     "execution_count": 293,
     "metadata": {},
     "output_type": "execute_result"
    }
   ],
   "source": [
    "data2 = df({'Y':Y,'T':T,'confonder':confounder})\n",
    "data2.head"
   ]
  },
  {
   "cell_type": "code",
   "execution_count": 307,
   "id": "9c3793a7",
   "metadata": {},
   "outputs": [
    {
     "data": {
      "image/svg+xml": [
       "<?xml version=\"1.0\" encoding=\"UTF-8\" standalone=\"no\"?>\n",
       "<!DOCTYPE svg PUBLIC \"-//W3C//DTD SVG 1.1//EN\"\n",
       " \"http://www.w3.org/Graphics/SVG/1.1/DTD/svg11.dtd\">\n",
       "<!-- Generated by graphviz version 2.47.1 (0)\n",
       " -->\n",
       "<!-- Pages: 1 -->\n",
       "<svg width=\"114pt\" height=\"188pt\"\n",
       " viewBox=\"0.00 0.00 114.00 188.00\" xmlns=\"http://www.w3.org/2000/svg\" xmlns:xlink=\"http://www.w3.org/1999/xlink\">\n",
       "<g id=\"graph0\" class=\"graph\" transform=\"scale(1 1) rotate(0) translate(4 184)\">\n",
       "<polygon fill=\"white\" stroke=\"transparent\" points=\"-4,4 -4,-184 110,-184 110,4 -4,4\"/>\n",
       "<!-- coufounder -->\n",
       "<g id=\"node1\" class=\"node\">\n",
       "<title>coufounder</title>\n",
       "<ellipse fill=\"none\" stroke=\"black\" cx=\"54\" cy=\"-162\" rx=\"51.99\" ry=\"18\"/>\n",
       "<text text-anchor=\"middle\" x=\"54\" y=\"-158.3\" font-family=\"Times,serif\" font-size=\"14.00\">coufounder</text>\n",
       "</g>\n",
       "<!-- T -->\n",
       "<g id=\"node2\" class=\"node\">\n",
       "<title>T</title>\n",
       "<ellipse fill=\"none\" stroke=\"black\" cx=\"27\" cy=\"-90\" rx=\"27\" ry=\"18\"/>\n",
       "<text text-anchor=\"middle\" x=\"27\" y=\"-86.3\" font-family=\"Times,serif\" font-size=\"14.00\">T</text>\n",
       "</g>\n",
       "<!-- coufounder&#45;&gt;T -->\n",
       "<g id=\"edge1\" class=\"edge\">\n",
       "<title>coufounder&#45;&gt;T</title>\n",
       "<path fill=\"none\" stroke=\"black\" d=\"M47.46,-144.05C44.38,-136.06 40.63,-126.33 37.18,-117.4\"/>\n",
       "<polygon fill=\"black\" stroke=\"black\" points=\"40.34,-115.86 33.48,-107.79 33.81,-118.38 40.34,-115.86\"/>\n",
       "</g>\n",
       "<!-- Y -->\n",
       "<g id=\"node3\" class=\"node\">\n",
       "<title>Y</title>\n",
       "<ellipse fill=\"none\" stroke=\"black\" cx=\"54\" cy=\"-18\" rx=\"27\" ry=\"18\"/>\n",
       "<text text-anchor=\"middle\" x=\"54\" y=\"-14.3\" font-family=\"Times,serif\" font-size=\"14.00\">Y</text>\n",
       "</g>\n",
       "<!-- coufounder&#45;&gt;Y -->\n",
       "<g id=\"edge3\" class=\"edge\">\n",
       "<title>coufounder&#45;&gt;Y</title>\n",
       "<path fill=\"none\" stroke=\"black\" d=\"M57.65,-143.91C59.68,-133.57 61.98,-120.09 63,-108 64.34,-92.06 64.34,-87.94 63,-72 62.28,-63.5 60.93,-54.31 59.49,-46.01\"/>\n",
       "<polygon fill=\"black\" stroke=\"black\" points=\"62.91,-45.29 57.65,-36.09 56.03,-46.56 62.91,-45.29\"/>\n",
       "</g>\n",
       "<!-- T&#45;&gt;Y -->\n",
       "<g id=\"edge2\" class=\"edge\">\n",
       "<title>T&#45;&gt;Y</title>\n",
       "<path fill=\"none\" stroke=\"black\" d=\"M33.4,-72.41C36.51,-64.34 40.33,-54.43 43.83,-45.35\"/>\n",
       "<polygon fill=\"black\" stroke=\"black\" points=\"47.13,-46.55 47.46,-35.96 40.6,-44.03 47.13,-46.55\"/>\n",
       "</g>\n",
       "</g>\n",
       "</svg>\n"
      ],
      "text/plain": [
       "<graphviz.graphs.Digraph at 0x7f9473d664c0>"
      ]
     },
     "execution_count": 307,
     "metadata": {},
     "output_type": "execute_result"
    }
   ],
   "source": [
    "g = gr.Digraph()\n",
    "\n",
    "g.edge(\"coufounder\", \"T\")\n",
    "\n",
    "g.edge(\"T\", \"Y\")\n",
    "g.edge(\"coufounder\", \"Y\")\n",
    "g\n"
   ]
  },
  {
   "cell_type": "code",
   "execution_count": 294,
   "id": "e8850e1c",
   "metadata": {},
   "outputs": [
    {
     "name": "stdout",
     "output_type": "stream",
     "text": [
      "                            OLS Regression Results                            \n",
      "==============================================================================\n",
      "Dep. Variable:                      Y   R-squared:                       1.000\n",
      "Model:                            OLS   Adj. R-squared:                  1.000\n",
      "Method:                 Least Squares   F-statistic:                 1.191e+31\n",
      "Date:                Thu, 14 Apr 2022   Prob (F-statistic):               0.00\n",
      "Time:                        14:08:54   Log-Likelihood:                 2958.6\n",
      "No. Observations:                 100   AIC:                            -5911.\n",
      "Df Residuals:                      97   BIC:                            -5903.\n",
      "Df Model:                           2                                         \n",
      "Covariance Type:            nonrobust                                         \n",
      "==============================================================================\n",
      "                 coef    std err          t      P>|t|      [0.025      0.975]\n",
      "------------------------------------------------------------------------------\n",
      "Intercept   6.217e-15   9.39e-15      0.662      0.509   -1.24e-14    2.49e-14\n",
      "T              0.4000   1.24e-16   3.23e+15      0.000       0.400       0.400\n",
      "confounder     0.3000   1.21e-16   2.47e+15      0.000       0.300       0.300\n",
      "==============================================================================\n",
      "Omnibus:                       34.088   Durbin-Watson:                   0.604\n",
      "Prob(Omnibus):                  0.000   Jarque-Bera (JB):                6.227\n",
      "Skew:                           0.112   Prob(JB):                       0.0444\n",
      "Kurtosis:                       1.798   Cond. No.                         247.\n",
      "==============================================================================\n",
      "\n",
      "Notes:\n",
      "[1] Standard Errors assume that the covariance matrix of the errors is correctly specified.\n"
     ]
    }
   ],
   "source": [
    "#control confounders\n",
    "model = smf.ols('Y~T+confounder',data = data2).fit()\n",
    "print(model.summary())"
   ]
  },
  {
   "cell_type": "markdown",
   "id": "43660da6",
   "metadata": {},
   "source": [
    "<h5>Bias =0, RMSE=0, treatment effect =0.4 </h5>"
   ]
  },
  {
   "cell_type": "code",
   "execution_count": 295,
   "id": "7ead8226",
   "metadata": {},
   "outputs": [
    {
     "name": "stdout",
     "output_type": "stream",
     "text": [
      "                            OLS Regression Results                            \n",
      "==============================================================================\n",
      "Dep. Variable:                      Y   R-squared:                       0.744\n",
      "Model:                            OLS   Adj. R-squared:                  0.741\n",
      "Method:                 Least Squares   F-statistic:                     284.3\n",
      "Date:                Thu, 14 Apr 2022   Prob (F-statistic):           9.95e-31\n",
      "Time:                        14:08:56   Log-Likelihood:                -357.00\n",
      "No. Observations:                 100   AIC:                             718.0\n",
      "Df Residuals:                      98   BIC:                             723.2\n",
      "Df Model:                           1                                         \n",
      "Covariance Type:            nonrobust                                         \n",
      "==============================================================================\n",
      "                 coef    std err          t      P>|t|      [0.025      0.975]\n",
      "------------------------------------------------------------------------------\n",
      "Intercept      9.5018      2.139      4.443      0.000       5.258      13.746\n",
      "T              0.4953      0.029     16.863      0.000       0.437       0.554\n",
      "==============================================================================\n",
      "Omnibus:                       18.843   Durbin-Watson:                   2.275\n",
      "Prob(Omnibus):                  0.000   Jarque-Bera (JB):                5.626\n",
      "Skew:                          -0.242   Prob(JB):                       0.0600\n",
      "Kurtosis:                       1.944   Cond. No.                         179.\n",
      "==============================================================================\n",
      "\n",
      "Notes:\n",
      "[1] Standard Errors assume that the covariance matrix of the errors is correctly specified.\n"
     ]
    }
   ],
   "source": [
    "# don't control confounders\n",
    "model = smf.ols('Y~T',data = data2).fit()\n",
    "print(model.summary())"
   ]
  },
  {
   "cell_type": "markdown",
   "id": "fa2f1b33",
   "metadata": {},
   "source": [
    "<h5>Bias = 0.0953, RMSE = 0.0953</h5>"
   ]
  },
  {
   "cell_type": "code",
   "execution_count": 156,
   "id": "95eceee7",
   "metadata": {},
   "outputs": [],
   "source": [
    "#sample size = 1000\n",
    "N=1000\n",
    "confounder = rd.rand(N)*100\n",
    "T = 0.3*confounder +rd.rand(N)*100\n",
    "Y = 0.4*T +0.3*confounder"
   ]
  },
  {
   "cell_type": "code",
   "execution_count": 157,
   "id": "6b0b1061",
   "metadata": {},
   "outputs": [
    {
     "data": {
      "text/plain": [
       "<bound method NDFrame.head of              Y           T  confonder\n",
       "0    27.787988   66.184023   4.381262\n",
       "1    62.493030   83.041584  97.587987\n",
       "2    46.619272   75.135406  55.217034\n",
       "3    56.722001  111.096940  40.944084\n",
       "4    49.324202   63.907982  79.203365\n",
       "..         ...         ...        ...\n",
       "995  16.890886   29.145496  17.442293\n",
       "996  28.582481   36.788675  46.223368\n",
       "997  34.400694   52.705663  44.394764\n",
       "998  24.556417   51.358283  13.377013\n",
       "999  21.065356   37.562390  20.134668\n",
       "\n",
       "[1000 rows x 3 columns]>"
      ]
     },
     "execution_count": 157,
     "metadata": {},
     "output_type": "execute_result"
    }
   ],
   "source": [
    "data2 = df({'Y':Y,'T':T,'confonder':confounder})\n",
    "data2.head"
   ]
  },
  {
   "cell_type": "code",
   "execution_count": 158,
   "id": "ba6df33c",
   "metadata": {},
   "outputs": [
    {
     "name": "stdout",
     "output_type": "stream",
     "text": [
      "                            OLS Regression Results                            \n",
      "==============================================================================\n",
      "Dep. Variable:                      Y   R-squared:                       1.000\n",
      "Model:                            OLS   Adj. R-squared:                  1.000\n",
      "Method:                 Least Squares   F-statistic:                 9.616e+31\n",
      "Date:                Thu, 14 Apr 2022   Prob (F-statistic):               0.00\n",
      "Time:                        13:55:52   Log-Likelihood:                 29486.\n",
      "No. Observations:                1000   AIC:                        -5.897e+04\n",
      "Df Residuals:                     997   BIC:                        -5.895e+04\n",
      "Df Model:                           2                                         \n",
      "Covariance Type:            nonrobust                                         \n",
      "==============================================================================\n",
      "                 coef    std err          t      P>|t|      [0.025      0.975]\n",
      "------------------------------------------------------------------------------\n",
      "Intercept   1.665e-14   3.16e-15      5.273      0.000    1.05e-14    2.29e-14\n",
      "T              0.4000   4.07e-17   9.83e+15      0.000       0.400       0.400\n",
      "confounder     0.3000   4.33e-17   6.93e+15      0.000       0.300       0.300\n",
      "==============================================================================\n",
      "Omnibus:                       21.760   Durbin-Watson:                   0.120\n",
      "Prob(Omnibus):                  0.000   Jarque-Bera (JB):               17.520\n",
      "Skew:                          -0.243   Prob(JB):                     0.000157\n",
      "Kurtosis:                       2.570   Cond. No.                         231.\n",
      "==============================================================================\n",
      "\n",
      "Notes:\n",
      "[1] Standard Errors assume that the covariance matrix of the errors is correctly specified.\n"
     ]
    }
   ],
   "source": [
    "#control confounders\n",
    "model = smf.ols('Y~T+confounder',data = data2).fit()\n",
    "print(model.summary())"
   ]
  },
  {
   "cell_type": "markdown",
   "id": "4b964f0b",
   "metadata": {},
   "source": [
    "<h5>Bias = 0, RMSE =0, treatment effect= 0.4 </h5>"
   ]
  },
  {
   "cell_type": "code",
   "execution_count": 159,
   "id": "67dc8743",
   "metadata": {},
   "outputs": [
    {
     "name": "stdout",
     "output_type": "stream",
     "text": [
      "                            OLS Regression Results                            \n",
      "==============================================================================\n",
      "Dep. Variable:                      Y   R-squared:                       0.751\n",
      "Model:                            OLS   Adj. R-squared:                  0.750\n",
      "Method:                 Least Squares   F-statistic:                     3003.\n",
      "Date:                Thu, 14 Apr 2022   Prob (F-statistic):          3.40e-303\n",
      "Time:                        13:55:54   Log-Likelihood:                -3535.8\n",
      "No. Observations:                1000   AIC:                             7076.\n",
      "Df Residuals:                     998   BIC:                             7085.\n",
      "Df Model:                           1                                         \n",
      "Covariance Type:            nonrobust                                         \n",
      "==============================================================================\n",
      "                 coef    std err          t      P>|t|      [0.025      0.975]\n",
      "------------------------------------------------------------------------------\n",
      "Intercept      9.7403      0.620     15.710      0.000       8.524      10.957\n",
      "T              0.4726      0.009     54.803      0.000       0.456       0.489\n",
      "==============================================================================\n",
      "Omnibus:                      320.827   Durbin-Watson:                   1.953\n",
      "Prob(Omnibus):                  0.000   Jarque-Bera (JB):               50.243\n",
      "Skew:                           0.115   Prob(JB):                     1.23e-11\n",
      "Kurtosis:                       1.926   Cond. No.                         170.\n",
      "==============================================================================\n",
      "\n",
      "Notes:\n",
      "[1] Standard Errors assume that the covariance matrix of the errors is correctly specified.\n"
     ]
    }
   ],
   "source": [
    "# don't control confounders\n",
    "model = smf.ols('Y~T',data = data2).fit()\n",
    "print(model.summary())"
   ]
  },
  {
   "cell_type": "code",
   "execution_count": 160,
   "id": "411111a3",
   "metadata": {},
   "outputs": [],
   "source": [
    "data2.to_csv('Q2.csv',index = False)"
   ]
  },
  {
   "cell_type": "markdown",
   "id": "bd8cda23",
   "metadata": {},
   "source": [
    "<h5>bias = 0.0726, RMSE = 0.0726</h5>"
   ]
  },
  {
   "cell_type": "markdown",
   "id": "f52b3fec",
   "metadata": {},
   "source": [
    "<h5>An example of a real-life situation</h5>\n",
    "suppose we are studying how the air quality index affects health. Except for air quality index, inside smoking is another confounder that affects health to some extent. Therefore, we need to think of it as well."
   ]
  },
  {
   "cell_type": "markdown",
   "id": "15f608f2",
   "metadata": {},
   "source": [
    "<h5>3. Simulate a DGP with selection bias into the treatment</h5>"
   ]
  },
  {
   "cell_type": "code",
   "execution_count": 161,
   "id": "8cfb2a6a",
   "metadata": {},
   "outputs": [],
   "source": [
    "N=100\n",
    "T = rd.rand(N)*100\n",
    "S = 0.3*T+rd.rand(N)*100\n",
    "Y = 0.5*S"
   ]
  },
  {
   "cell_type": "code",
   "execution_count": 162,
   "id": "095d823d",
   "metadata": {},
   "outputs": [
    {
     "data": {
      "text/plain": [
       "<bound method NDFrame.head of             T           S          Y\n",
       "0   12.467333   20.262268  10.131134\n",
       "1   27.348834   71.090284  35.545142\n",
       "2    5.347499   46.026678  23.013339\n",
       "3   85.013267   88.523454  44.261727\n",
       "4   59.599851  113.629484  56.814742\n",
       "..        ...         ...        ...\n",
       "95  99.055203  128.560480  64.280240\n",
       "96  17.344796   88.404045  44.202022\n",
       "97   0.440283   77.146803  38.573401\n",
       "98  77.539009  119.137729  59.568865\n",
       "99  75.957427   45.569040  22.784520\n",
       "\n",
       "[100 rows x 3 columns]>"
      ]
     },
     "execution_count": 162,
     "metadata": {},
     "output_type": "execute_result"
    }
   ],
   "source": [
    "data = df({'T':T, 'S':S, 'Y': Y})\n",
    "data.head"
   ]
  },
  {
   "cell_type": "code",
   "execution_count": 313,
   "id": "5c979766",
   "metadata": {},
   "outputs": [
    {
     "data": {
      "image/svg+xml": [
       "<?xml version=\"1.0\" encoding=\"UTF-8\" standalone=\"no\"?>\n",
       "<!DOCTYPE svg PUBLIC \"-//W3C//DTD SVG 1.1//EN\"\n",
       " \"http://www.w3.org/Graphics/SVG/1.1/DTD/svg11.dtd\">\n",
       "<!-- Generated by graphviz version 2.47.1 (0)\n",
       " -->\n",
       "<!-- Pages: 1 -->\n",
       "<svg width=\"110pt\" height=\"188pt\"\n",
       " viewBox=\"0.00 0.00 110.10 188.00\" xmlns=\"http://www.w3.org/2000/svg\" xmlns:xlink=\"http://www.w3.org/1999/xlink\">\n",
       "<g id=\"graph0\" class=\"graph\" transform=\"scale(1 1) rotate(0) translate(4 184)\">\n",
       "<polygon fill=\"white\" stroke=\"transparent\" points=\"-4,4 -4,-184 106.1,-184 106.1,4 -4,4\"/>\n",
       "<!-- Treatment -->\n",
       "<g id=\"node1\" class=\"node\">\n",
       "<title>Treatment</title>\n",
       "<ellipse fill=\"none\" stroke=\"black\" cx=\"54\" cy=\"-162\" rx=\"48.19\" ry=\"18\"/>\n",
       "<text text-anchor=\"middle\" x=\"54\" y=\"-158.3\" font-family=\"Times,serif\" font-size=\"14.00\">Treatment</text>\n",
       "</g>\n",
       "<!-- S -->\n",
       "<g id=\"node2\" class=\"node\">\n",
       "<title>S</title>\n",
       "<ellipse fill=\"none\" stroke=\"black\" cx=\"27\" cy=\"-90\" rx=\"27\" ry=\"18\"/>\n",
       "<text text-anchor=\"middle\" x=\"27\" y=\"-86.3\" font-family=\"Times,serif\" font-size=\"14.00\">S</text>\n",
       "</g>\n",
       "<!-- Treatment&#45;&gt;S -->\n",
       "<g id=\"edge1\" class=\"edge\">\n",
       "<title>Treatment&#45;&gt;S</title>\n",
       "<path fill=\"none\" stroke=\"black\" d=\"M47.46,-144.05C44.38,-136.06 40.63,-126.33 37.18,-117.4\"/>\n",
       "<polygon fill=\"black\" stroke=\"black\" points=\"40.34,-115.86 33.48,-107.79 33.81,-118.38 40.34,-115.86\"/>\n",
       "</g>\n",
       "<!-- Y -->\n",
       "<g id=\"node3\" class=\"node\">\n",
       "<title>Y</title>\n",
       "<ellipse fill=\"none\" stroke=\"black\" cx=\"54\" cy=\"-18\" rx=\"27\" ry=\"18\"/>\n",
       "<text text-anchor=\"middle\" x=\"54\" y=\"-14.3\" font-family=\"Times,serif\" font-size=\"14.00\">Y</text>\n",
       "</g>\n",
       "<!-- Treatment&#45;&gt;Y -->\n",
       "<g id=\"edge3\" class=\"edge\">\n",
       "<title>Treatment&#45;&gt;Y</title>\n",
       "<path fill=\"none\" stroke=\"black\" d=\"M57.65,-143.91C59.68,-133.57 61.98,-120.09 63,-108 64.34,-92.06 64.34,-87.94 63,-72 62.28,-63.5 60.93,-54.31 59.49,-46.01\"/>\n",
       "<polygon fill=\"black\" stroke=\"black\" points=\"62.91,-45.29 57.65,-36.09 56.03,-46.56 62.91,-45.29\"/>\n",
       "</g>\n",
       "<!-- S&#45;&gt;Y -->\n",
       "<g id=\"edge2\" class=\"edge\">\n",
       "<title>S&#45;&gt;Y</title>\n",
       "<path fill=\"none\" stroke=\"black\" d=\"M33.4,-72.41C36.51,-64.34 40.33,-54.43 43.83,-45.35\"/>\n",
       "<polygon fill=\"black\" stroke=\"black\" points=\"47.13,-46.55 47.46,-35.96 40.6,-44.03 47.13,-46.55\"/>\n",
       "</g>\n",
       "</g>\n",
       "</svg>\n"
      ],
      "text/plain": [
       "<graphviz.graphs.Digraph at 0x7f9473d97040>"
      ]
     },
     "execution_count": 313,
     "metadata": {},
     "output_type": "execute_result"
    }
   ],
   "source": [
    "g = gr.Digraph()\n",
    "\n",
    "g.edge(\"Treatment\", \"S\")\n",
    "\n",
    "g.edge(\"S\", \"Y\")\n",
    "g.edge(\"Treatment\", \"Y\")\n",
    "g"
   ]
  },
  {
   "cell_type": "code",
   "execution_count": 310,
   "id": "c82cb453",
   "metadata": {},
   "outputs": [
    {
     "name": "stdout",
     "output_type": "stream",
     "text": [
      "                            OLS Regression Results                            \n",
      "==============================================================================\n",
      "Dep. Variable:                      Y   R-squared:                       0.015\n",
      "Model:                            OLS   Adj. R-squared:                 -0.005\n",
      "Method:                 Least Squares   F-statistic:                    0.7516\n",
      "Date:                Thu, 14 Apr 2022   Prob (F-statistic):              0.474\n",
      "Time:                        14:18:40   Log-Likelihood:                -414.63\n",
      "No. Observations:                 100   AIC:                             835.3\n",
      "Df Residuals:                      97   BIC:                             843.1\n",
      "Df Model:                           2                                         \n",
      "Covariance Type:            nonrobust                                         \n",
      "==============================================================================\n",
      "                 coef    std err          t      P>|t|      [0.025      0.975]\n",
      "------------------------------------------------------------------------------\n",
      "Intercept     44.1884      5.448      8.111      0.000      33.376      55.001\n",
      "T             -0.0365      0.053     -0.694      0.489      -0.141       0.068\n",
      "S              0.0537      0.054      1.001      0.319      -0.053       0.160\n",
      "==============================================================================\n",
      "Omnibus:                        0.572   Durbin-Watson:                   2.290\n",
      "Prob(Omnibus):                  0.751   Jarque-Bera (JB):                0.698\n",
      "Skew:                           0.074   Prob(JB):                        0.705\n",
      "Kurtosis:                       2.618   Cond. No.                         357.\n",
      "==============================================================================\n",
      "\n",
      "Notes:\n",
      "[1] Standard Errors assume that the covariance matrix of the errors is correctly specified.\n"
     ]
    }
   ],
   "source": [
    "#control for the variable in between the path from cause to effec\n",
    "model = smf.ols('Y~T+S',data = data).fit()\n",
    "print(model.summary())"
   ]
  },
  {
   "cell_type": "markdown",
   "id": "c76b55f5",
   "metadata": {},
   "source": [
    "<h5>bias = 0.5365, RMSE = 0.5365</h5>"
   ]
  },
  {
   "cell_type": "code",
   "execution_count": 127,
   "id": "9b90f71d",
   "metadata": {},
   "outputs": [
    {
     "name": "stdout",
     "output_type": "stream",
     "text": [
      "                            OLS Regression Results                            \n",
      "==============================================================================\n",
      "Dep. Variable:                      Y   R-squared:                       0.032\n",
      "Model:                            OLS   Adj. R-squared:                  0.022\n",
      "Method:                 Least Squares   F-statistic:                     3.236\n",
      "Date:                Thu, 14 Apr 2022   Prob (F-statistic):             0.0751\n",
      "Time:                        13:44:02   Log-Likelihood:                -416.62\n",
      "No. Observations:                 100   AIC:                             837.2\n",
      "Df Residuals:                      98   BIC:                             842.4\n",
      "Df Model:                           1                                         \n",
      "Covariance Type:            nonrobust                                         \n",
      "==============================================================================\n",
      "                 coef    std err          t      P>|t|      [0.025      0.975]\n",
      "------------------------------------------------------------------------------\n",
      "Intercept     26.3909      2.958      8.921      0.000      20.521      32.261\n",
      "T              0.0961      0.053      1.799      0.075      -0.010       0.202\n",
      "==============================================================================\n",
      "Omnibus:                       60.910   Durbin-Watson:                   2.036\n",
      "Prob(Omnibus):                  0.000   Jarque-Bera (JB):                7.298\n",
      "Skew:                           0.051   Prob(JB):                       0.0260\n",
      "Kurtosis:                       1.681   Cond. No.                         104.\n",
      "==============================================================================\n",
      "\n",
      "Notes:\n",
      "[1] Standard Errors assume that the covariance matrix of the errors is correctly specified.\n"
     ]
    }
   ],
   "source": [
    "#don't control for the variable in between the path from cause to effect\n",
    "model = smf.ols('Y~T',data = data).fit()\n",
    "print(model.summary())"
   ]
  },
  {
   "cell_type": "markdown",
   "id": "59941303",
   "metadata": {},
   "source": [
    "<h5>bias = -0.4039, RMSE = 0.4039</h5>"
   ]
  },
  {
   "cell_type": "code",
   "execution_count": 128,
   "id": "249f0831",
   "metadata": {},
   "outputs": [],
   "source": [
    "#N = 1000\n",
    "N=1000\n",
    "T = rd.rand(N)*100\n",
    "S = 0.3*T+rd.rand(N)*100\n",
    "Y = 0.5*S"
   ]
  },
  {
   "cell_type": "code",
   "execution_count": 129,
   "id": "6a700ab4",
   "metadata": {},
   "outputs": [
    {
     "data": {
      "text/plain": [
       "<bound method NDFrame.head of              T           S          Y\n",
       "0    61.450624  104.676105  52.338052\n",
       "1    94.162078   79.433578  39.716789\n",
       "2    99.735502   86.354644  43.177322\n",
       "3    91.515387  121.873306  60.936653\n",
       "4    84.817076   68.824880  34.412440\n",
       "..         ...         ...        ...\n",
       "995  23.087277   77.303264  38.651632\n",
       "996  39.226513   99.515709  49.757854\n",
       "997   3.390577   92.952634  46.476317\n",
       "998  13.833466   75.882997  37.941499\n",
       "999  38.342074   24.186061  12.093031\n",
       "\n",
       "[1000 rows x 3 columns]>"
      ]
     },
     "execution_count": 129,
     "metadata": {},
     "output_type": "execute_result"
    }
   ],
   "source": [
    "data = df({'T':T, 'S':S, 'Y': Y})\n",
    "data.head"
   ]
  },
  {
   "cell_type": "code",
   "execution_count": 130,
   "id": "7bb725ca",
   "metadata": {},
   "outputs": [
    {
     "name": "stdout",
     "output_type": "stream",
     "text": [
      "                            OLS Regression Results                            \n",
      "==============================================================================\n",
      "Dep. Variable:                      Y   R-squared:                       1.000\n",
      "Model:                            OLS   Adj. R-squared:                  1.000\n",
      "Method:                 Least Squares   F-statistic:                 1.320e+33\n",
      "Date:                Thu, 14 Apr 2022   Prob (F-statistic):               0.00\n",
      "Time:                        13:45:47   Log-Likelihood:                 30918.\n",
      "No. Observations:                1000   AIC:                        -6.183e+04\n",
      "Df Residuals:                     997   BIC:                        -6.181e+04\n",
      "Df Model:                           2                                         \n",
      "Covariance Type:            nonrobust                                         \n",
      "==============================================================================\n",
      "                 coef    std err          t      P>|t|      [0.025      0.975]\n",
      "------------------------------------------------------------------------------\n",
      "Intercept  -9.215e-15   7.74e-16    -11.907      0.000   -1.07e-14    -7.7e-15\n",
      "T           2.585e-16   1.04e-17     24.895      0.000    2.38e-16    2.79e-16\n",
      "S              0.5000   1.02e-17   4.91e+16      0.000       0.500       0.500\n",
      "==============================================================================\n",
      "Omnibus:                      197.896   Durbin-Watson:                   1.495\n",
      "Prob(Omnibus):                  0.000   Jarque-Bera (JB):               40.538\n",
      "Skew:                          -0.025   Prob(JB):                     1.58e-09\n",
      "Kurtosis:                       2.015   Cond. No.                         241.\n",
      "==============================================================================\n",
      "\n",
      "Notes:\n",
      "[1] Standard Errors assume that the covariance matrix of the errors is correctly specified.\n"
     ]
    }
   ],
   "source": [
    "#control for the variable in between the path from cause to effec\n",
    "model = smf.ols('Y~T+S',data = data).fit()\n",
    "print(model.summary())"
   ]
  },
  {
   "cell_type": "markdown",
   "id": "53af614d",
   "metadata": {},
   "source": [
    " <h5>bias = 0.4, RMSE = 0.4874 </h5>"
   ]
  },
  {
   "cell_type": "code",
   "execution_count": 131,
   "id": "c95eda86",
   "metadata": {},
   "outputs": [
    {
     "name": "stdout",
     "output_type": "stream",
     "text": [
      "                            OLS Regression Results                            \n",
      "==============================================================================\n",
      "Dep. Variable:                      Y   R-squared:                       0.087\n",
      "Model:                            OLS   Adj. R-squared:                  0.086\n",
      "Method:                 Least Squares   F-statistic:                     95.16\n",
      "Date:                Thu, 14 Apr 2022   Prob (F-statistic):           1.55e-21\n",
      "Time:                        13:45:48   Log-Likelihood:                -4062.5\n",
      "No. Observations:                1000   AIC:                             8129.\n",
      "Df Residuals:                     998   BIC:                             8139.\n",
      "Df Model:                           1                                         \n",
      "Covariance Type:            nonrobust                                         \n",
      "==============================================================================\n",
      "                 coef    std err          t      P>|t|      [0.025      0.975]\n",
      "------------------------------------------------------------------------------\n",
      "Intercept     25.4026      0.894     28.400      0.000      23.647      27.158\n",
      "T              0.1504      0.015      9.755      0.000       0.120       0.181\n",
      "==============================================================================\n",
      "Omnibus:                      512.094   Durbin-Watson:                   2.000\n",
      "Prob(Omnibus):                  0.000   Jarque-Bera (JB):               55.290\n",
      "Skew:                          -0.027   Prob(JB):                     9.86e-13\n",
      "Kurtosis:                       1.849   Cond. No.                         117.\n",
      "==============================================================================\n",
      "\n",
      "Notes:\n",
      "[1] Standard Errors assume that the covariance matrix of the errors is correctly specified.\n"
     ]
    }
   ],
   "source": [
    "#don't control for the variable in between the path from cause to effec\n",
    "model = smf.ols('Y~T',data = data).fit()\n",
    "print(model.summary())"
   ]
  },
  {
   "cell_type": "markdown",
   "id": "9f7d0fbe",
   "metadata": {},
   "source": [
    "<h5>bias = 0.3596, RMSE = 0.3596, treatment effect = 0.5</h5>"
   ]
  },
  {
   "cell_type": "code",
   "execution_count": 314,
   "id": "4d546a06",
   "metadata": {},
   "outputs": [],
   "source": [
    "data.to_csv('Q3.csv',index = False)"
   ]
  },
  {
   "cell_type": "markdown",
   "id": "b5636fc8",
   "metadata": {},
   "source": [
    "<h5>An example of a real-life situation</h5>\n",
    "A simple example of selection bias in the treatment is that the doctor wants to study if the medicine is working. In this case, the doctor gives the medicine to patients they think the medicine will work. This behavior can be understood as selection bias because the doctor already assumed part of the patients will be better after taking the medicine."
   ]
  }
 ],
 "metadata": {
  "kernelspec": {
   "display_name": "Python 3 (ipykernel)",
   "language": "python",
   "name": "python3"
  },
  "language_info": {
   "codemirror_mode": {
    "name": "ipython",
    "version": 3
   },
   "file_extension": ".py",
   "mimetype": "text/x-python",
   "name": "python",
   "nbconvert_exporter": "python",
   "pygments_lexer": "ipython3",
   "version": "3.9.7"
  }
 },
 "nbformat": 4,
 "nbformat_minor": 5
}
